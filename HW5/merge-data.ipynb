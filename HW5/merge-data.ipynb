{
 "cells": [
  {
   "cell_type": "markdown",
   "metadata": {},
   "source": [
    "# Create Merged Dataset\n",
    "\n",
    "In this workbook, you will read in the `trip` and `fare` files. You are welcome to use DataFrame and/or SparkSQL API as you desire as long as it produces the expected results.\n",
    "\n",
    "Instructions:\n",
    "\n",
    "1. Join both datasets such that you get a merged dataset with 21 unique fields. You need to determine how to join the dataset.\n",
    "2. Once you create the merged dataset, you need to convert fields to the following types, since all fields were read is as string:\n",
    "    * pickup_datetime and dropoff_datetime must be TIMESTAMP\n",
    "    * passenger_count and rate_code must be INT\n",
    "    * all other numeric fields must be FLOAT\n",
    "    * the remaining fields stay as STRING\n",
    "3. Save your merged and converted dataset to your own S3 bucket in parquet format.\n",
    "\n",
    "You are welcome to add as many cells as you need below up until the next section. **You must include comments in your code.**"
   ]
  },
  {
   "cell_type": "code",
   "execution_count": 1,
   "metadata": {},
   "outputs": [],
   "source": [
    "# Start SparkSession\n",
    "import findspark\n",
    "findspark.init()\n",
    "from pyspark.sql import SparkSession\n",
    "spark = SparkSession.builder.appName(\"HW-5\").getOrCreate()"
   ]
  },
  {
   "cell_type": "code",
   "execution_count": 2,
   "metadata": {},
   "outputs": [
    {
     "data": {
      "text/html": [
       "\n",
       "            <div>\n",
       "                <p><b>SparkSession - in-memory</b></p>\n",
       "                \n",
       "        <div>\n",
       "            <p><b>SparkContext</b></p>\n",
       "\n",
       "            <p><a href=\"http://ip-172-31-38-238.ec2.internal:4040\">Spark UI</a></p>\n",
       "\n",
       "            <dl>\n",
       "              <dt>Version</dt>\n",
       "                <dd><code>v2.4.0</code></dd>\n",
       "              <dt>Master</dt>\n",
       "                <dd><code>yarn</code></dd>\n",
       "              <dt>AppName</dt>\n",
       "                <dd><code>HW-5</code></dd>\n",
       "            </dl>\n",
       "        </div>\n",
       "        \n",
       "            </div>\n",
       "        "
      ],
      "text/plain": [
       "<pyspark.sql.session.SparkSession at 0x7f9a978d67b8>"
      ]
     },
     "execution_count": 2,
     "metadata": {},
     "output_type": "execute_result"
    }
   ],
   "source": [
    "# Test whether the Spark can work\n",
    "spark"
   ]
  },
  {
   "cell_type": "code",
   "execution_count": 3,
   "metadata": {},
   "outputs": [],
   "source": [
    "# Load the trip data from s3 bucket\n",
    "trip = spark.read\\\n",
    "  .format('parquet')\\\n",
    "  .option('header', 'true')\\\n",
    "  .option('inferSchema', 'true')\\\n",
    "  .load('s3://bigdatateaching/nyctaxi-2013/parquet/trip/')"
   ]
  },
  {
   "cell_type": "code",
   "execution_count": 4,
   "metadata": {},
   "outputs": [
    {
     "name": "stdout",
     "output_type": "stream",
     "text": [
      "+--------------------+--------------------+---------+---------+------------------+-------------------+-------------------+---------------+-----------------+-------------+----------------+---------------+-----------------+----------------+\n",
      "|           medallion|        hack_license|vendor_id|rate_code|store_and_fwd_flag|    pickup_datetime|   dropoff_datetime|passenger_count|trip_time_in_secs|trip_distance|pickup_longitude|pickup_latitude|dropoff_longitude|dropoff_latitude|\n",
      "+--------------------+--------------------+---------+---------+------------------+-------------------+-------------------+---------------+-----------------+-------------+----------------+---------------+-----------------+----------------+\n",
      "|0F6CF8A85A039CDF3...|33BC9D03BE4E9B8E1...|      VTS|        1|              null|2013-04-20 20:22:00|2013-04-20 20:28:00|              1|              360|          .46|       -73.98571|      40.762817|       -73.978874|       40.762306|\n",
      "|75148F5ED6DECC2B4...|FC93BBB797CBAA633...|      VTS|        1|              null|2013-04-19 20:22:00|2013-04-19 20:29:00|              1|              420|          .98|      -73.976372|      40.752708|       -73.987167|       40.746979|\n",
      "|D0D9C0CD2B6E87AD6...|989738ED439E7B633...|      VTS|        1|              null|2013-04-20 19:55:00|2013-04-20 20:26:00|              1|             1860|        14.10|       -73.96035|      40.761929|       -73.767807|        40.76152|\n",
      "|7A786DEAECF59A090...|749D6B1C8942CC1A9...|      VTS|        1|              null|2013-04-20 20:16:00|2013-04-20 20:29:00|              1|              780|         3.27|       -73.97789|      40.745956|       -73.988716|       40.778271|\n",
      "|777710CE76CBB5AA3...|19BAC4238FB7745C2...|      VTS|        1|              null|2013-04-20 23:19:00|2013-04-20 23:30:00|              2|              660|         1.48|      -73.985832|      40.741581|       -73.993744|       40.727081|\n",
      "|ED75D2ABE6241A671...|6C2FF19A115CC5092...|      VTS|        1|              null|2013-04-20 23:25:00|2013-04-20 23:29:00|              5|              240|          .67|      -74.005371|      40.745434|       -73.996178|       40.744179|\n",
      "|4DC8AF4D7A35AA2B7...|260C1EC0C586F0CE5...|      VTS|        1|              null|2013-04-20 23:17:00|2013-04-20 23:27:00|              3|              600|         1.19|      -73.982735|      40.735321|       -73.982735|       40.735321|\n",
      "|C61EBE0BFDD0A348B...|7C36013218D83B665...|      VTS|        1|              null|2013-04-20 23:15:00|2013-04-20 23:27:00|              1|              720|         2.10|       -74.00634|      40.742268|       -74.002464|       40.718864|\n",
      "|FBE13E2D830FE83F9...|08C64489FF7555D72...|      VTS|        1|              null|2013-04-20 23:15:00|2013-04-20 23:28:00|              1|              780|         2.93|      -73.986282|      40.763962|        -73.95163|         40.7812|\n",
      "|038E76DC061A40AE0...|CA93DFED15A69BE2D...|      VTS|        1|              null|2013-04-20 23:14:00|2013-04-20 23:25:00|              2|              660|         2.47|      -74.001183|      40.736713|       -73.985489|       40.763195|\n",
      "+--------------------+--------------------+---------+---------+------------------+-------------------+-------------------+---------------+-----------------+-------------+----------------+---------------+-----------------+----------------+\n",
      "only showing top 10 rows\n",
      "\n"
     ]
    }
   ],
   "source": [
    "# Print the first 10 records for trip\n",
    "trip.show(10)"
   ]
  },
  {
   "cell_type": "code",
   "execution_count": 5,
   "metadata": {},
   "outputs": [],
   "source": [
    "# Load the fare data from s3 bucket\n",
    "fare = spark.read\\\n",
    "  .format('parquet')\\\n",
    "  .option('header', 'true')\\\n",
    "  .option('inferSchema', 'true')\\\n",
    "  .load('s3://bigdatateaching/nyctaxi-2013/parquet/fare/')"
   ]
  },
  {
   "cell_type": "code",
   "execution_count": 6,
   "metadata": {},
   "outputs": [
    {
     "name": "stdout",
     "output_type": "stream",
     "text": [
      "+--------------------+--------------------+---------+-------------------+------------+-----------+---------+-------+----------+------------+------------+\n",
      "|           medallion|        hack_license|vendor_id|    pickup_datetime|payment_type|fare_amount|surcharge|mta_tax|tip_amount|tolls_amount|total_amount|\n",
      "+--------------------+--------------------+---------+-------------------+------------+-----------+---------+-------+----------+------------+------------+\n",
      "|ABC075C8871353E9F...|F13B6FECD12C974E7...|      VTS|2013-04-09 18:11:00|         CRD|       11.5|        1|    0.5|      3.12|           0|       16.12|\n",
      "|6F05C2D331B2178F3...|38A4C7A8805AF6713...|      VTS|2013-04-09 18:16:00|         CSH|        5.5|        1|    0.5|         0|           0|           7|\n",
      "|A2B2E4DC64E3B3B9F...|902DEAA1A28E6022C...|      VTS|2013-04-09 18:08:00|         CRD|       15.5|        1|    0.5|         2|           0|          19|\n",
      "|D5DB49A3CBC353FB7...|65324A9B1F91221CA...|      VTS|2013-04-09 18:17:00|         CSH|          5|        1|    0.5|         0|           0|         6.5|\n",
      "|AB5964E59B2458472...|00374328FBA75FBFC...|      VTS|2013-04-09 18:06:00|         CSH|         13|        1|    0.5|         0|           0|        14.5|\n",
      "|D6892CBB7611985DC...|7227B8FAD01C94B5F...|      VTS|2013-04-09 18:23:00|         CRD|          3|        1|    0.5|       0.8|           0|         5.3|\n",
      "|7166914A326D84915...|FE44D0EA86E9882E9...|      VTS|2013-04-09 18:16:00|         CRD|        7.5|        1|    0.5|         1|           0|          10|\n",
      "|D016579A75E4CE553...|01060D63D29CE42C8...|      VTS|2013-04-09 18:20:00|         CRD|        5.5|        1|    0.5|       1.3|           0|         8.3|\n",
      "|8F0D4A95E121B52CA...|56237D1B787603219...|      VTS|2013-04-09 18:14:00|         CRD|         10|        1|    0.5|       2.2|           0|        13.7|\n",
      "|5D506A80496D56D8E...|3F3C8F830606CFDA5...|      VTS|2013-04-09 18:16:00|         CSH|        6.5|        1|    0.5|         0|           0|           8|\n",
      "+--------------------+--------------------+---------+-------------------+------------+-----------+---------+-------+----------+------------+------------+\n",
      "only showing top 10 rows\n",
      "\n"
     ]
    }
   ],
   "source": [
    "# Print the first 10 records for fare \n",
    "fare.show(10)"
   ]
  },
  {
   "cell_type": "code",
   "execution_count": 7,
   "metadata": {},
   "outputs": [
    {
     "name": "stdout",
     "output_type": "stream",
     "text": [
      "root\n",
      " |-- medallion: string (nullable = true)\n",
      " |-- hack_license: string (nullable = true)\n",
      " |-- vendor_id: string (nullable = true)\n",
      " |-- rate_code: string (nullable = true)\n",
      " |-- store_and_fwd_flag: string (nullable = true)\n",
      " |-- pickup_datetime: string (nullable = true)\n",
      " |-- dropoff_datetime: string (nullable = true)\n",
      " |-- passenger_count: string (nullable = true)\n",
      " |-- trip_time_in_secs: string (nullable = true)\n",
      " |-- trip_distance: string (nullable = true)\n",
      " |-- pickup_longitude: string (nullable = true)\n",
      " |-- pickup_latitude: string (nullable = true)\n",
      " |-- dropoff_longitude: string (nullable = true)\n",
      " |-- dropoff_latitude: string (nullable = true)\n",
      "\n",
      "root\n",
      " |-- medallion: string (nullable = true)\n",
      " |-- hack_license: string (nullable = true)\n",
      " |-- vendor_id: string (nullable = true)\n",
      " |-- pickup_datetime: string (nullable = true)\n",
      " |-- payment_type: string (nullable = true)\n",
      " |-- fare_amount: string (nullable = true)\n",
      " |-- surcharge: string (nullable = true)\n",
      " |-- mta_tax: string (nullable = true)\n",
      " |-- tip_amount: string (nullable = true)\n",
      " |-- tolls_amount: string (nullable = true)\n",
      " |-- total_amount: string (nullable = true)\n",
      "\n"
     ]
    }
   ],
   "source": [
    "# Look at the Schema for the two datasets\n",
    "trip.printSchema()\n",
    "fare.printSchema()"
   ]
  },
  {
   "cell_type": "code",
   "execution_count": 8,
   "metadata": {},
   "outputs": [],
   "source": [
    "# Create two tables called 'trip_table' and 'fare_table'\n",
    "trip.createOrReplaceTempView(\"trip_table\")\n",
    "fare.createOrReplaceTempView(\"fare_table\")"
   ]
  },
  {
   "cell_type": "code",
   "execution_count": 9,
   "metadata": {},
   "outputs": [],
   "source": [
    "# Join two tables by the variables 'medallion','hack_license' and 'pickup_datetime'\n",
    "# To make sure the 'fare' matches the same 'trip'\n",
    "nyctaxi = spark.sql(\"\"\"\n",
    "SELECT\n",
    "t.medallion              \n",
    ", t.hack_license           \n",
    ", t.vendor_id              \n",
    ", t.pickup_datetime        \n",
    ", f.payment_type           \n",
    ", f.fare_amount            \n",
    ", f.surcharge              \n",
    ", f.mta_tax             \n",
    ", f.tip_amount            \n",
    ", f.tolls_amount           \n",
    ", f.total_amount         \n",
    ", t.rate_code              \n",
    ", t.store_and_fwd_flag     \n",
    ", t.dropoff_datetime       \n",
    ", t.passenger_count     \n",
    ", t.trip_time_in_secs      \n",
    ", t.trip_distance          \n",
    ", t.pickup_longitude       \n",
    ", t.pickup_latitude        \n",
    ", t.dropoff_longitude      \n",
    ", t.dropoff_latitude      \n",
    "FROM trip_table t\n",
    "JOIN fare_table f \n",
    "ON\n",
    "(t.medallion = f.medallion \n",
    "and t.hack_license = f.hack_license \n",
    "and t.pickup_datetime = f.pickup_datetime)\n",
    "\"\"\").cache()"
   ]
  },
  {
   "cell_type": "code",
   "execution_count": 10,
   "metadata": {},
   "outputs": [
    {
     "name": "stdout",
     "output_type": "stream",
     "text": [
      "root\n",
      " |-- medallion: string (nullable = true)\n",
      " |-- hack_license: string (nullable = true)\n",
      " |-- vendor_id: string (nullable = true)\n",
      " |-- pickup_datetime: string (nullable = true)\n",
      " |-- payment_type: string (nullable = true)\n",
      " |-- fare_amount: string (nullable = true)\n",
      " |-- surcharge: string (nullable = true)\n",
      " |-- mta_tax: string (nullable = true)\n",
      " |-- tip_amount: string (nullable = true)\n",
      " |-- tolls_amount: string (nullable = true)\n",
      " |-- total_amount: string (nullable = true)\n",
      " |-- rate_code: string (nullable = true)\n",
      " |-- store_and_fwd_flag: string (nullable = true)\n",
      " |-- dropoff_datetime: string (nullable = true)\n",
      " |-- passenger_count: string (nullable = true)\n",
      " |-- trip_time_in_secs: string (nullable = true)\n",
      " |-- trip_distance: string (nullable = true)\n",
      " |-- pickup_longitude: string (nullable = true)\n",
      " |-- pickup_latitude: string (nullable = true)\n",
      " |-- dropoff_longitude: string (nullable = true)\n",
      " |-- dropoff_latitude: string (nullable = true)\n",
      "\n"
     ]
    }
   ],
   "source": [
    "# See the Schema of the merged dataset\n",
    "nyctaxi.printSchema()"
   ]
  },
  {
   "cell_type": "code",
   "execution_count": 11,
   "metadata": {},
   "outputs": [],
   "source": [
    "# Convert data type\n",
    "# pickup_datetime and dropoff_datetime must be TIMESTAMP\n",
    "nyctaxi_converted = nyctaxi.withColumn(\"pickup_datetime\",nyctaxi[\"pickup_datetime\"].cast(\"timestamp\"))\n",
    "nyctaxi_converted = nyctaxi_converted.withColumn(\"dropoff_datetime\",nyctaxi[\"dropoff_datetime\"].cast(\"timestamp\"))\n",
    "\n",
    "# passenger_count and rate_code must be INT\n",
    "nyctaxi_converted = nyctaxi_converted.withColumn(\"passenger_count\",nyctaxi[\"passenger_count\"].cast(\"int\"))\n",
    "nyctaxi_converted = nyctaxi_converted.withColumn(\"rate_code\",nyctaxi[\"rate_code\"].cast(\"int\"))\n",
    "\n",
    "# all other numeric fields must be FLOAT\n",
    "nyctaxi_converted = nyctaxi_converted.withColumn(\"trip_distance\",nyctaxi[\"trip_distance\"].cast(\"float\"))\n",
    "nyctaxi_converted = nyctaxi_converted.withColumn(\"pickup_latitude\",nyctaxi[\"pickup_latitude\"].cast(\"float\"))\n",
    "nyctaxi_converted = nyctaxi_converted.withColumn(\"pickup_longitude\",nyctaxi[\"pickup_longitude\"].cast(\"float\"))\n",
    "nyctaxi_converted = nyctaxi_converted.withColumn(\"dropoff_latitude\",nyctaxi[\"dropoff_latitude\"].cast(\"float\"))\n",
    "nyctaxi_converted = nyctaxi_converted.withColumn(\"dropoff_longitude\",nyctaxi[\"dropoff_longitude\"].cast(\"float\"))\n",
    "nyctaxi_converted = nyctaxi_converted.withColumn(\"fare_amount\",nyctaxi[\"fare_amount\"].cast(\"float\"))\n",
    "nyctaxi_converted = nyctaxi_converted.withColumn(\"surcharge\",nyctaxi[\"surcharge\"].cast(\"float\"))\n",
    "nyctaxi_converted = nyctaxi_converted.withColumn(\"mta_tax\",nyctaxi[\"mta_tax\"].cast(\"float\"))\n",
    "nyctaxi_converted = nyctaxi_converted.withColumn(\"tip_amount\",nyctaxi[\"tip_amount\"].cast(\"float\"))\n",
    "nyctaxi_converted = nyctaxi_converted.withColumn(\"tolls_amount\",nyctaxi[\"tolls_amount\"].cast(\"float\"))\n",
    "nyctaxi_converted = nyctaxi_converted.withColumn(\"total_amount\",nyctaxi[\"total_amount\"].cast(\"float\"))\n",
    "nyctaxi_converted = nyctaxi_converted.withColumn(\"trip_time_in_secs\",nyctaxi[\"trip_time_in_secs\"].cast(\"float\"))"
   ]
  },
  {
   "cell_type": "markdown",
   "metadata": {},
   "source": [
    "## In the following cells, please provide the requested code and output. Do not change the order and/or structure of the cells."
   ]
  },
  {
   "cell_type": "markdown",
   "metadata": {},
   "source": [
    "In the next cell, provide the code that saves your merged dataset to your S3 bucket."
   ]
  },
  {
   "cell_type": "code",
   "execution_count": 13,
   "metadata": {},
   "outputs": [],
   "source": [
    "nyctaxi_converted.write.parquet(\"s3://zzzzzzhy0607/merged_data\",mode=\"overwrite\")"
   ]
  },
  {
   "cell_type": "markdown",
   "metadata": {},
   "source": [
    "In the next cell, print the schema of your merged dataset."
   ]
  },
  {
   "cell_type": "code",
   "execution_count": 15,
   "metadata": {},
   "outputs": [
    {
     "name": "stdout",
     "output_type": "stream",
     "text": [
      "root\n",
      " |-- medallion: string (nullable = true)\n",
      " |-- hack_license: string (nullable = true)\n",
      " |-- vendor_id: string (nullable = true)\n",
      " |-- pickup_datetime: timestamp (nullable = true)\n",
      " |-- payment_type: string (nullable = true)\n",
      " |-- fare_amount: float (nullable = true)\n",
      " |-- surcharge: float (nullable = true)\n",
      " |-- mta_tax: float (nullable = true)\n",
      " |-- tip_amount: float (nullable = true)\n",
      " |-- tolls_amount: float (nullable = true)\n",
      " |-- total_amount: float (nullable = true)\n",
      " |-- rate_code: integer (nullable = true)\n",
      " |-- store_and_fwd_flag: string (nullable = true)\n",
      " |-- dropoff_datetime: timestamp (nullable = true)\n",
      " |-- passenger_count: integer (nullable = true)\n",
      " |-- trip_time_in_secs: float (nullable = true)\n",
      " |-- trip_distance: float (nullable = true)\n",
      " |-- pickup_longitude: float (nullable = true)\n",
      " |-- pickup_latitude: float (nullable = true)\n",
      " |-- dropoff_longitude: float (nullable = true)\n",
      " |-- dropoff_latitude: float (nullable = true)\n",
      "\n"
     ]
    }
   ],
   "source": [
    "nyctaxi_converted.printSchema()"
   ]
  },
  {
   "cell_type": "markdown",
   "metadata": {},
   "source": [
    "In the next cell, print the first 10 records of your merged dataset."
   ]
  },
  {
   "cell_type": "code",
   "execution_count": 16,
   "metadata": {},
   "outputs": [
    {
     "name": "stdout",
     "output_type": "stream",
     "text": [
      "+--------------------+--------------------+---------+-------------------+------------+-----------+---------+-------+----------+------------+------------+---------+------------------+-------------------+---------------+-----------------+-------------+----------------+---------------+-----------------+----------------+\n",
      "|           medallion|        hack_license|vendor_id|    pickup_datetime|payment_type|fare_amount|surcharge|mta_tax|tip_amount|tolls_amount|total_amount|rate_code|store_and_fwd_flag|   dropoff_datetime|passenger_count|trip_time_in_secs|trip_distance|pickup_longitude|pickup_latitude|dropoff_longitude|dropoff_latitude|\n",
      "+--------------------+--------------------+---------+-------------------+------------+-----------+---------+-------+----------+------------+------------+---------+------------------+-------------------+---------------+-----------------+-------------+----------------+---------------+-----------------+----------------+\n",
      "|00005007A9F30E289...|0649DA10C83DE7C6A...|      CMT|2013-05-14 21:41:46|         CSH|       10.5|      0.5|    0.5|       0.0|         0.0|        11.5|        1|                 Y|2013-05-14 21:52:49|              1|            663.0|          2.7|        -73.9876|      40.761337|        -73.95461|        40.76898|\n",
      "|00005007A9F30E289...|16780B3E72BAA7A5C...|      CMT|2013-07-16 18:32:07|         CSH|        7.5|      1.0|    0.5|       0.0|         0.0|         9.0|        1|                 N|2013-07-16 18:41:58|              1|            591.0|          0.8|       -73.98923|       40.74743|       -73.998184|        40.74895|\n",
      "|00005007A9F30E289...|24C122A944FB8EE21...|      CMT|2013-10-02 12:51:16|         CRD|        8.5|      0.0|    0.5|       1.8|         0.0|        10.8|        1|                 N|2013-10-02 13:03:42|              2|            745.0|          0.5|       -73.99525|       40.74958|       -73.989494|       40.755898|\n",
      "|00005007A9F30E289...|24C122A944FB8EE21...|      CMT|2013-10-05 11:05:19|         CSH|        6.0|      0.0|    0.5|       0.0|         0.0|         6.5|        1|                 N|2013-10-05 11:10:00|              1|            280.0|          1.2|       -73.96498|      40.791233|        -73.96191|       40.779648|\n",
      "|00005007A9F30E289...|24C122A944FB8EE21...|      CMT|2013-10-10 11:42:32|         CSH|       17.0|      0.0|    0.5|       0.0|         0.0|        17.5|        1|                 N|2013-10-10 11:54:47|              1|            734.0|          5.1|       -73.98229|      40.777756|        -73.94243|        40.83687|\n",
      "|00005007A9F30E289...|24C122A944FB8EE21...|      CMT|2013-10-11 13:40:39|         CSH|        6.5|      0.0|    0.5|       0.0|         0.0|         7.0|        1|                 N|2013-10-11 13:47:35|              1|            416.0|          0.9|       -73.97346|      40.764458|        -73.96326|       40.771683|\n",
      "|00005007A9F30E289...|24C122A944FB8EE21...|      CMT|2013-10-19 14:30:59|         CSH|        5.0|      0.0|    0.5|       0.0|         0.0|         5.5|        1|                 N|2013-10-19 14:35:33|              1|            274.0|          0.6|       -73.98155|      40.768353|        -73.97345|        40.76437|\n",
      "|00005007A9F30E289...|24C122A944FB8EE21...|      CMT|2013-11-09 14:53:32|         CRD|       24.0|      0.0|    0.5|       4.9|         0.0|        29.4|        1|                 N|2013-11-09 15:14:01|              1|           1228.0|          7.2|       -74.01281|        40.7167|        -73.96437|       40.807182|\n",
      "|00005007A9F30E289...|24C122A944FB8EE21...|      CMT|2013-11-11 12:30:33|         CRD|        6.0|      0.0|    0.5|       1.3|         0.0|         7.8|        1|                 N|2013-11-11 12:35:17|              1|            284.0|          0.9|       -74.01484|       40.71418|        -74.01491|       40.707893|\n",
      "|00005007A9F30E289...|24C122A944FB8EE21...|      CMT|2013-11-20 16:07:28|         CSH|        7.5|      1.0|    0.5|       0.0|         0.0|         9.0|        1|                 N|2013-11-20 16:15:29|              1|            480.0|          1.4|       -73.95694|       40.76803|        -73.95659|        40.78263|\n",
      "+--------------------+--------------------+---------+-------------------+------------+-----------+---------+-------+----------+------------+------------+---------+------------------+-------------------+---------------+-----------------+-------------+----------------+---------------+-----------------+----------------+\n",
      "only showing top 10 rows\n",
      "\n"
     ]
    }
   ],
   "source": [
    "nyctaxi_converted.show(10)"
   ]
  },
  {
   "cell_type": "markdown",
   "metadata": {},
   "source": [
    "In the next cell, print the row count of your merged dataset."
   ]
  },
  {
   "cell_type": "code",
   "execution_count": 17,
   "metadata": {},
   "outputs": [
    {
     "name": "stdout",
     "output_type": "stream",
     "text": [
      "Number of records: 173185091\n"
     ]
    }
   ],
   "source": [
    "print(\"Number of records: \" + str(nyctaxi_converted.count()))"
   ]
  }
 ],
 "metadata": {
  "anaconda-cloud": {},
  "celltoolbar": "Raw Cell Format",
  "kernelspec": {
   "display_name": "Python 3",
   "language": "python",
   "name": "python3"
  },
  "language_info": {
   "codemirror_mode": {
    "name": "ipython",
    "version": 3
   },
   "file_extension": ".py",
   "mimetype": "text/x-python",
   "name": "python",
   "nbconvert_exporter": "python",
   "pygments_lexer": "ipython3",
   "version": "3.6.7"
  }
 },
 "nbformat": 4,
 "nbformat_minor": 1
}
